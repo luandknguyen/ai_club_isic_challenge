{
  "nbformat": 4,
  "nbformat_minor": 0,
  "metadata": {
    "colab": {
      "provenance": [],
      "machine_shape": "hm",
      "gpuType": "L4"
    },
    "kernelspec": {
      "name": "python3",
      "display_name": "Python 3"
    },
    "language_info": {
      "name": "python"
    },
    "accelerator": "GPU"
  },
  "cells": [
    {
      "cell_type": "code",
      "source": [
        "!wget https://isic-challenge-data.s3.amazonaws.com/2016/ISBI2016_ISIC_Part1_Training_Data.zip -O training.zip\n",
        "!wget https://isic-challenge-data.s3.amazonaws.com/2016/ISBI2016_ISIC_Part1_Training_GroundTruth.zip -O training_truth.zip\n",
        "!wget https://isic-challenge-data.s3.amazonaws.com/2016/ISBI2016_ISIC_Part1_Test_Data.zip -O testing.zip\n",
        "!wget https://isic-challenge-data.s3.amazonaws.com/2016/ISBI2016_ISIC_Part1_Test_GroundTruth.zip -O testing_truth.zip"
      ],
      "metadata": {
        "colab": {
          "base_uri": "https://localhost:8080/"
        },
        "id": "gmJ3n4n6sO_n",
        "outputId": "a988ea88-65c7-459e-c2e7-829a46f3a5a0"
      },
      "execution_count": 31,
      "outputs": [
        {
          "output_type": "stream",
          "name": "stdout",
          "text": [
            "--2024-11-13 23:21:13--  https://isic-challenge-data.s3.amazonaws.com/2016/ISBI2016_ISIC_Part1_Test_Data.zip\n",
            "Resolving isic-challenge-data.s3.amazonaws.com (isic-challenge-data.s3.amazonaws.com)... 54.231.225.201, 54.231.130.177, 52.217.232.97, ...\n",
            "Connecting to isic-challenge-data.s3.amazonaws.com (isic-challenge-data.s3.amazonaws.com)|54.231.225.201|:443... connected.\n",
            "HTTP request sent, awaiting response... 200 OK\n",
            "Length: 242932767 (232M) [application/zip]\n",
            "Saving to: ‘testing.zip’\n",
            "\n",
            "testing.zip         100%[===================>] 231.68M  13.9MB/s    in 18s     \n",
            "\n",
            "2024-11-13 23:21:33 (12.6 MB/s) - ‘testing.zip’ saved [242932767/242932767]\n",
            "\n",
            "--2024-11-13 23:21:33--  https://isic-challenge-data.s3.amazonaws.com/2016/ISBI2016_ISIC_Part1_Test_GroundTruth.zip\n",
            "Resolving isic-challenge-data.s3.amazonaws.com (isic-challenge-data.s3.amazonaws.com)... 3.5.29.43, 52.217.67.60, 3.5.29.209, ...\n",
            "Connecting to isic-challenge-data.s3.amazonaws.com (isic-challenge-data.s3.amazonaws.com)|3.5.29.43|:443... connected.\n",
            "HTTP request sent, awaiting response... 200 OK\n",
            "Length: 2376407 (2.3M) [application/zip]\n",
            "Saving to: ‘testing_truth.zip’\n",
            "\n",
            "testing_truth.zip   100%[===================>]   2.27M  1.49MB/s    in 1.5s    \n",
            "\n",
            "2024-11-13 23:21:36 (1.49 MB/s) - ‘testing_truth.zip’ saved [2376407/2376407]\n",
            "\n"
          ]
        }
      ]
    },
    {
      "cell_type": "code",
      "source": [
        "!unzip -qq -n training.zip\n",
        "!unzip -qq -n training_truth.zip\n",
        "!unzip -qq -n testing.zip\n",
        "!unzip -qq -n testing_truth.zip"
      ],
      "metadata": {
        "colab": {
          "base_uri": "https://localhost:8080/"
        },
        "id": "DKpD6y9DtmOh",
        "outputId": "00a9e2d0-2463-4be3-8955-ce0d6dfbfe74"
      },
      "execution_count": 32,
      "outputs": [
        {
          "output_type": "stream",
          "name": "stdout",
          "text": [
            "unzip:  cannot find or open training_truth.zip, training_truth.zip.zip or training_truth.zip.ZIP.\n"
          ]
        }
      ]
    },
    {
      "cell_type": "code",
      "source": [
        "import random\n",
        "import gc\n",
        "\n",
        "import numpy\n",
        "import tensorflow as tf\n",
        "from tensorflow import data\n",
        "from keras import layers, utils, losses, metrics\n",
        "from matplotlib import pyplot\n",
        "import seaborn\n",
        "import pandas\n",
        "from tqdm import tqdm\n",
        "\n",
        "# Check for GPU\n",
        "print(tf.config.list_physical_devices(\"GPU\"))\n",
        "\n",
        "# For seed sync\n",
        "random.seed()\n",
        "\n",
        "RAW_WIDTH = 512\n",
        "RAW_HEIGHT = 512\n",
        "RAW_SIZE = (RAW_WIDTH, RAW_HEIGHT)\n",
        "WIDTH = 256\n",
        "HEIGHT = 256\n",
        "SIZE = (WIDTH, HEIGHT)\n",
        "TRAINING_DIR = \"/content/ISBI2016_ISIC_Part1_Training_Data\"\n",
        "TRAINING_TRUTH_DIR = \"/content/ISBI2016_ISIC_Part1_Training_GroundTruth\"\n",
        "BATCH_SIZE = 200\n",
        "SAVED_FILE = f\"p1_weights_{WIDTH}_{HEIGHT}.h5\""
      ],
      "metadata": {
        "colab": {
          "base_uri": "https://localhost:8080/"
        },
        "id": "_mEN2id6tK1B",
        "outputId": "4b439d26-bf75-431c-d8dc-45f934e81aba"
      },
      "execution_count": 36,
      "outputs": [
        {
          "output_type": "stream",
          "name": "stdout",
          "text": [
            "[PhysicalDevice(name='/physical_device:GPU:0', device_type='GPU')]\n"
          ]
        }
      ]
    },
    {
      "cell_type": "code",
      "source": [
        "seed = random.randint(0, 2**32 - 1)\n",
        "\n",
        "input_images = utils.image_dataset_from_directory(\n",
        "    TRAINING_DIR,\n",
        "    labels=None,\n",
        "    label_mode=None,\n",
        "    image_size=RAW_SIZE,\n",
        "    batch_size=BATCH_SIZE,\n",
        "    color_mode=\"rgb\",\n",
        "    interpolation=\"bilinear\",\n",
        "    seed=seed\n",
        ")\n",
        "\n",
        "input_images = input_images.cache()\n",
        "\n",
        "label_images = utils.image_dataset_from_directory(\n",
        "    TRAINING_TRUTH_DIR,\n",
        "    labels=None,\n",
        "    label_mode=None,\n",
        "    image_size=RAW_SIZE,\n",
        "    batch_size=BATCH_SIZE,\n",
        "    color_mode=\"grayscale\",\n",
        "    interpolation=\"nearest\",\n",
        "    seed=seed\n",
        ")\n",
        "\n",
        "label_images = label_images.cache()"
      ],
      "metadata": {
        "colab": {
          "base_uri": "https://localhost:8080/"
        },
        "id": "TxAp7JgZtik9",
        "outputId": "d12522d3-4b76-4782-ddbf-13b65e60536b"
      },
      "execution_count": 8,
      "outputs": [
        {
          "output_type": "stream",
          "name": "stdout",
          "text": [
            "Found 900 files.\n",
            "Found 900 files.\n"
          ]
        }
      ]
    },
    {
      "cell_type": "code",
      "source": [
        "class Preprocessing():\n",
        "    def __init__(self):\n",
        "        seed = random.randint(0, 2**32 - 1)\n",
        "        self.scale = layers.Rescaling(scale=1./255)\n",
        "        self.rotate_x = layers.RandomRotation(\n",
        "            factor=0.2, fill_mode=\"constant\", interpolation=\"bilinear\", seed=seed)\n",
        "        self.rotate_y = layers.RandomRotation(\n",
        "            factor=0.2, fill_mode=\"constant\", interpolation=\"nearest\", seed=seed)\n",
        "        self.crop_x = layers.RandomCrop(height=HEIGHT, width=WIDTH, seed=seed)\n",
        "        self.crop_y = layers.RandomCrop(height=HEIGHT, width=WIDTH, seed=seed)\n",
        "        self.brightness = layers.RandomBrightness(\n",
        "            factor=0.2, value_range=(0, 1))\n",
        "        self.contrast = layers.RandomContrast(factor=0.2)\n",
        "        self.flip_x = layers.RandomFlip(seed=seed)\n",
        "        self.flip_y = layers.RandomFlip(seed=seed)\n",
        "\n",
        "    def __call__(self, inputs, labels):\n",
        "        index = numpy.arange(inputs.shape[0] * 2)\n",
        "        numpy.random.shuffle(index)\n",
        "        # Inputs\n",
        "        x = self.scale(inputs)\n",
        "        x = self.rotate_x(x)\n",
        "        x = self.crop_x(x)\n",
        "        x = tf.repeat(x, repeats=2, axis=0)\n",
        "        x = self.brightness(x)\n",
        "        x = self.contrast(x)\n",
        "        x = self.flip_x(x)\n",
        "        x = tf.convert_to_tensor(x.numpy()[index])\n",
        "        # Labels\n",
        "        y = self.scale(labels)\n",
        "        y = self.rotate_y(y)\n",
        "        y = self.crop_y(y)\n",
        "        y = tf.repeat(y, repeats=2, axis=0)\n",
        "        y = self.flip_y(y)\n",
        "        y = tf.convert_to_tensor(y.numpy()[index], dtype=\"int8\")\n",
        "        return (x, y)\n",
        "\n",
        "\n",
        "preprocessing = Preprocessing()"
      ],
      "metadata": {
        "id": "qJt_Bc48wFYv"
      },
      "execution_count": 10,
      "outputs": []
    },
    {
      "cell_type": "code",
      "source": [
        "from model import UNet\n",
        "\n",
        "model = UNet()\n",
        "model.compile(\n",
        "    optimizer=tf.keras.optimizers.Adam(learning_rate=1e-4),\n",
        "    loss=losses.BinaryFocalCrossentropy(\n",
        "        apply_class_balancing=False,\n",
        "        alpha=0.25,\n",
        "        gamma=2.0\n",
        "    ),\n",
        "    metrics=[\n",
        "        \"BinaryAccuracy\",\n",
        "        \"BinaryIoU\"\n",
        "    ]\n",
        ")\n",
        "model(layers.Input((WIDTH, HEIGHT, 3)))\n",
        "iou_history = []"
      ],
      "metadata": {
        "colab": {
          "base_uri": "https://localhost:8080/"
        },
        "id": "ialA2Kgyv5H3",
        "outputId": "e8a85520-1a0c-4f98-f21e-e4a65619ea00"
      },
      "execution_count": 14,
      "outputs": [
        {
          "output_type": "execute_result",
          "data": {
            "text/plain": [
              "<KerasTensor shape=(None, 256, 256, 1), dtype=float32, sparse=False, name=keras_tensor_37>"
            ]
          },
          "metadata": {},
          "execution_count": 14
        }
      ]
    },
    {
      "cell_type": "code",
      "source": [
        "EPOCH = 25\n",
        "\n",
        "for epoch in range(EPOCH):\n",
        "    print(f\"=== Epoch {epoch} ===\")\n",
        "    zipped = tf.data.Dataset.zip((input_images, label_images))\n",
        "    for (inputs, labels) in tqdm(zipped):\n",
        "        inputs, labels = preprocessing(inputs, labels)\n",
        "        history = model.fit(inputs, labels, verbose=0)\n",
        "        iou_history.append(history.history[\"BinaryIoU\"])\n",
        "    gc.collect()"
      ],
      "metadata": {
        "colab": {
          "base_uri": "https://localhost:8080/"
        },
        "collapsed": true,
        "id": "rzOngTSswKL5",
        "outputId": "d3cc678b-0c4d-4b27-d706-2c76bdd3c227"
      },
      "execution_count": 16,
      "outputs": [
        {
          "output_type": "stream",
          "name": "stdout",
          "text": [
            "=== Epoch 0 ===\n"
          ]
        },
        {
          "output_type": "stream",
          "name": "stderr",
          "text": [
            "100%|██████████| 18/18 [00:08<00:00,  2.01it/s]\n"
          ]
        },
        {
          "output_type": "stream",
          "name": "stdout",
          "text": [
            "=== Epoch 1 ===\n"
          ]
        },
        {
          "output_type": "stream",
          "name": "stderr",
          "text": [
            "100%|██████████| 18/18 [00:09<00:00,  2.00it/s]\n"
          ]
        },
        {
          "output_type": "stream",
          "name": "stdout",
          "text": [
            "=== Epoch 2 ===\n"
          ]
        },
        {
          "output_type": "stream",
          "name": "stderr",
          "text": [
            "100%|██████████| 18/18 [00:08<00:00,  2.01it/s]\n"
          ]
        },
        {
          "output_type": "stream",
          "name": "stdout",
          "text": [
            "=== Epoch 3 ===\n"
          ]
        },
        {
          "output_type": "stream",
          "name": "stderr",
          "text": [
            "100%|██████████| 18/18 [00:08<00:00,  2.01it/s]\n"
          ]
        },
        {
          "output_type": "stream",
          "name": "stdout",
          "text": [
            "=== Epoch 4 ===\n"
          ]
        },
        {
          "output_type": "stream",
          "name": "stderr",
          "text": [
            "100%|██████████| 18/18 [00:08<00:00,  2.00it/s]\n"
          ]
        },
        {
          "output_type": "stream",
          "name": "stdout",
          "text": [
            "=== Epoch 5 ===\n"
          ]
        },
        {
          "output_type": "stream",
          "name": "stderr",
          "text": [
            "100%|██████████| 18/18 [00:09<00:00,  1.99it/s]\n"
          ]
        },
        {
          "output_type": "stream",
          "name": "stdout",
          "text": [
            "=== Epoch 6 ===\n"
          ]
        },
        {
          "output_type": "stream",
          "name": "stderr",
          "text": [
            "100%|██████████| 18/18 [00:08<00:00,  2.01it/s]\n"
          ]
        },
        {
          "output_type": "stream",
          "name": "stdout",
          "text": [
            "=== Epoch 7 ===\n"
          ]
        },
        {
          "output_type": "stream",
          "name": "stderr",
          "text": [
            "100%|██████████| 18/18 [00:08<00:00,  2.01it/s]\n"
          ]
        },
        {
          "output_type": "stream",
          "name": "stdout",
          "text": [
            "=== Epoch 8 ===\n"
          ]
        },
        {
          "output_type": "stream",
          "name": "stderr",
          "text": [
            "100%|██████████| 18/18 [00:08<00:00,  2.01it/s]\n"
          ]
        },
        {
          "output_type": "stream",
          "name": "stdout",
          "text": [
            "=== Epoch 9 ===\n"
          ]
        },
        {
          "output_type": "stream",
          "name": "stderr",
          "text": [
            "100%|██████████| 18/18 [00:08<00:00,  2.00it/s]\n"
          ]
        },
        {
          "output_type": "stream",
          "name": "stdout",
          "text": [
            "=== Epoch 10 ===\n"
          ]
        },
        {
          "output_type": "stream",
          "name": "stderr",
          "text": [
            "100%|██████████| 18/18 [00:08<00:00,  2.00it/s]\n"
          ]
        },
        {
          "output_type": "stream",
          "name": "stdout",
          "text": [
            "=== Epoch 11 ===\n"
          ]
        },
        {
          "output_type": "stream",
          "name": "stderr",
          "text": [
            "100%|██████████| 18/18 [00:09<00:00,  1.99it/s]\n"
          ]
        },
        {
          "output_type": "stream",
          "name": "stdout",
          "text": [
            "=== Epoch 12 ===\n"
          ]
        },
        {
          "output_type": "stream",
          "name": "stderr",
          "text": [
            "100%|██████████| 18/18 [00:09<00:00,  1.99it/s]\n"
          ]
        },
        {
          "output_type": "stream",
          "name": "stdout",
          "text": [
            "=== Epoch 13 ===\n"
          ]
        },
        {
          "output_type": "stream",
          "name": "stderr",
          "text": [
            "100%|██████████| 18/18 [00:08<00:00,  2.00it/s]\n"
          ]
        },
        {
          "output_type": "stream",
          "name": "stdout",
          "text": [
            "=== Epoch 14 ===\n"
          ]
        },
        {
          "output_type": "stream",
          "name": "stderr",
          "text": [
            "100%|██████████| 18/18 [00:09<00:00,  2.00it/s]\n"
          ]
        },
        {
          "output_type": "stream",
          "name": "stdout",
          "text": [
            "=== Epoch 15 ===\n"
          ]
        },
        {
          "output_type": "stream",
          "name": "stderr",
          "text": [
            "100%|██████████| 18/18 [00:09<00:00,  2.00it/s]\n"
          ]
        },
        {
          "output_type": "stream",
          "name": "stdout",
          "text": [
            "=== Epoch 16 ===\n"
          ]
        },
        {
          "output_type": "stream",
          "name": "stderr",
          "text": [
            "100%|██████████| 18/18 [00:09<00:00,  1.99it/s]\n"
          ]
        },
        {
          "output_type": "stream",
          "name": "stdout",
          "text": [
            "=== Epoch 17 ===\n"
          ]
        },
        {
          "output_type": "stream",
          "name": "stderr",
          "text": [
            "100%|██████████| 18/18 [00:09<00:00,  1.99it/s]\n"
          ]
        },
        {
          "output_type": "stream",
          "name": "stdout",
          "text": [
            "=== Epoch 18 ===\n"
          ]
        },
        {
          "output_type": "stream",
          "name": "stderr",
          "text": [
            "100%|██████████| 18/18 [00:09<00:00,  1.99it/s]\n"
          ]
        },
        {
          "output_type": "stream",
          "name": "stdout",
          "text": [
            "=== Epoch 19 ===\n"
          ]
        },
        {
          "output_type": "stream",
          "name": "stderr",
          "text": [
            "100%|██████████| 18/18 [00:08<00:00,  2.00it/s]\n"
          ]
        },
        {
          "output_type": "stream",
          "name": "stdout",
          "text": [
            "=== Epoch 20 ===\n"
          ]
        },
        {
          "output_type": "stream",
          "name": "stderr",
          "text": [
            "100%|██████████| 18/18 [00:09<00:00,  2.00it/s]\n"
          ]
        },
        {
          "output_type": "stream",
          "name": "stdout",
          "text": [
            "=== Epoch 21 ===\n"
          ]
        },
        {
          "output_type": "stream",
          "name": "stderr",
          "text": [
            "100%|██████████| 18/18 [00:09<00:00,  2.00it/s]\n"
          ]
        },
        {
          "output_type": "stream",
          "name": "stdout",
          "text": [
            "=== Epoch 22 ===\n"
          ]
        },
        {
          "output_type": "stream",
          "name": "stderr",
          "text": [
            "100%|██████████| 18/18 [00:09<00:00,  1.99it/s]\n"
          ]
        },
        {
          "output_type": "stream",
          "name": "stdout",
          "text": [
            "=== Epoch 23 ===\n"
          ]
        },
        {
          "output_type": "stream",
          "name": "stderr",
          "text": [
            "100%|██████████| 18/18 [00:09<00:00,  2.00it/s]\n"
          ]
        },
        {
          "output_type": "stream",
          "name": "stdout",
          "text": [
            "=== Epoch 24 ===\n"
          ]
        },
        {
          "output_type": "stream",
          "name": "stderr",
          "text": [
            "100%|██████████| 18/18 [00:09<00:00,  1.99it/s]\n"
          ]
        }
      ]
    },
    {
      "cell_type": "code",
      "source": [
        "iou_history_pd = pandas.DataFrame(iou_history)\n",
        "seaborn.lineplot(iou_history_pd)"
      ],
      "metadata": {
        "colab": {
          "base_uri": "https://localhost:8080/",
          "height": 453
        },
        "id": "oXy_506-x1hx",
        "outputId": "5f47fe07-bb0d-46a0-aec2-5fea51543110"
      },
      "execution_count": 26,
      "outputs": [
        {
          "output_type": "execute_result",
          "data": {
            "text/plain": [
              "<Axes: >"
            ]
          },
          "metadata": {},
          "execution_count": 26
        },
        {
          "output_type": "display_data",
          "data": {
            "text/plain": [
              "<Figure size 640x480 with 1 Axes>"
            ],
            "image/png": "[encoded data removed]"
          },
          "metadata": {}
        }
      ]
    },
    {
      "cell_type": "code",
      "source": [
        "TRAINING_DIR = \"/content/ISBI2016_ISIC_Part1_Training_Data\"\n",
        "TRAINING_TRUTH_DIR = \"/content/ISBI2016_ISIC_Part1_Training_GroundTruth\"\n",
        "BATCH_SIZE = 1\n",
        "SAVED_FILE = f\"saved/v1/weights_{WIDTH}_{HEIGHT}.h5\""
      ],
      "metadata": {
        "id": "4WpKo5xu1mwf"
      },
      "execution_count": 34,
      "outputs": []
    },
    {
      "cell_type": "code",
      "source": [
        "seed = 100\n",
        "\n",
        "input_images = utils.image_dataset_from_directory(\n",
        "    TRAINING_DIR,\n",
        "    labels=None,\n",
        "    label_mode=None,\n",
        "    image_size=SIZE,\n",
        "    batch_size=BATCH_SIZE,\n",
        "    color_mode=\"rgb\",\n",
        "    shuffle=False,\n",
        "    seed=seed\n",
        ")\n",
        "\n",
        "input_images = input_images.cache()\n",
        "\n",
        "label_images = utils.image_dataset_from_directory(\n",
        "    TRAINING_TRUTH_DIR,\n",
        "    labels=None,\n",
        "    label_mode=None,\n",
        "    image_size=SIZE,\n",
        "    batch_size=BATCH_SIZE,\n",
        "    color_mode=\"grayscale\",\n",
        "    shuffle=False,\n",
        "    seed=seed\n",
        ")\n",
        "\n",
        "label_images = label_images.cache()"
      ],
      "metadata": {
        "colab": {
          "base_uri": "https://localhost:8080/"
        },
        "id": "hFi-ycbP1qMA",
        "outputId": "eb140d67-90e2-49e0-83eb-68e7ff9df1b2"
      },
      "execution_count": 35,
      "outputs": [
        {
          "output_type": "stream",
          "name": "stdout",
          "text": [
            "Found 900 files.\n",
            "Found 900 files.\n"
          ]
        }
      ]
    },
    {
      "cell_type": "code",
      "source": [
        "metric = metrics.BinaryIoU()\n",
        "loss_list = []\n",
        "for (inputs, labels) in tqdm(data.Dataset.zip((input_images, label_images))):\n",
        "    labels = tf.cast(labels > 0.5, dtype=\"int8\")\n",
        "    outputs = model(inputs / 255)\n",
        "    loss_value = metric(labels, outputs).numpy()\n",
        "    loss_list.append(loss_value)\n",
        "total_loss = numpy.average(loss_list)\n",
        "print(f\"Mean Itersect-over-Union: {total_loss}\")"
      ],
      "metadata": {
        "colab": {
          "base_uri": "https://localhost:8080/"
        },
        "id": "_tLXLZgY1vKu",
        "outputId": "a2fc85b1-7697-4cfe-db57-6f26a205910b"
      },
      "execution_count": 37,
      "outputs": [
        {
          "output_type": "stream",
          "name": "stderr",
          "text": [
            "100%|██████████| 900/900 [00:53<00:00, 16.76it/s]"
          ]
        },
        {
          "output_type": "stream",
          "name": "stdout",
          "text": [
            "Mean Itersect-over-Union: 0.7138893008232117\n"
          ]
        },
        {
          "output_type": "stream",
          "name": "stderr",
          "text": [
            "\n"
          ]
        }
      ]
    },
    {
      "cell_type": "code",
      "source": [],
      "metadata": {
        "id": "jQRHwX3k2eU2"
      },
      "execution_count": null,
      "outputs": []
    }
  ]
}