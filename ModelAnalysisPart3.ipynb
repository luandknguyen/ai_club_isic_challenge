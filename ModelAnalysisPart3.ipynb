{
 "cells": [
  {
   "cell_type": "code",
   "execution_count": 1,
   "metadata": {},
   "outputs": [
    {
     "name": "stderr",
     "output_type": "stream",
     "text": [
      "2023-12-08 13:11:46.913676: E external/local_xla/xla/stream_executor/cuda/cuda_dnn.cc:9261] Unable to register cuDNN factory: Attempting to register factory for plugin cuDNN when one has already been registered\n",
      "2023-12-08 13:11:46.913781: E external/local_xla/xla/stream_executor/cuda/cuda_fft.cc:607] Unable to register cuFFT factory: Attempting to register factory for plugin cuFFT when one has already been registered\n",
      "2023-12-08 13:11:46.919321: E external/local_xla/xla/stream_executor/cuda/cuda_blas.cc:1515] Unable to register cuBLAS factory: Attempting to register factory for plugin cuBLAS when one has already been registered\n",
      "2023-12-08 13:11:46.939569: I tensorflow/core/platform/cpu_feature_guard.cc:182] This TensorFlow binary is optimized to use available CPU instructions in performance-critical operations.\n",
      "To enable the following instructions: AVX2 FMA, in other operations, rebuild TensorFlow with the appropriate compiler flags.\n",
      "2023-12-08 13:11:48.429289: W tensorflow/compiler/tf2tensorrt/utils/py_utils.cc:38] TF-TRT Warning: Could not find TensorRT\n"
     ]
    },
    {
     "name": "stdout",
     "output_type": "stream",
     "text": [
      "[PhysicalDevice(name='/physical_device:GPU:0', device_type='GPU')]\n",
      "[PhysicalDevice(name='/physical_device:GPU:0', device_type='GPU')]\n"
     ]
    },
    {
     "name": "stderr",
     "output_type": "stream",
     "text": [
      "2023-12-08 13:11:50.057743: I external/local_xla/xla/stream_executor/cuda/cuda_executor.cc:887] could not open file to read NUMA node: /sys/bus/pci/devices/0000:01:00.0/numa_node\n",
      "Your kernel may have been built without NUMA support.\n",
      "2023-12-08 13:11:50.139111: I external/local_xla/xla/stream_executor/cuda/cuda_executor.cc:887] could not open file to read NUMA node: /sys/bus/pci/devices/0000:01:00.0/numa_node\n",
      "Your kernel may have been built without NUMA support.\n",
      "2023-12-08 13:11:50.139220: I external/local_xla/xla/stream_executor/cuda/cuda_executor.cc:887] could not open file to read NUMA node: /sys/bus/pci/devices/0000:01:00.0/numa_node\n",
      "Your kernel may have been built without NUMA support.\n"
     ]
    }
   ],
   "source": [
    "# %% Imports\n",
    "\n",
    "import random\n",
    "import csv\n",
    "\n",
    "import numpy\n",
    "import pandas\n",
    "import tensorflow as tf\n",
    "from keras import layers, utils, losses, metrics\n",
    "import matplotlib.pyplot as pyplot\n",
    "from tqdm import tqdm\n",
    "\n",
    "from model import UNet, ClassifierNet\n",
    "\n",
    "# Check for GPU\n",
    "print(tf.config.list_physical_devices(\"GPU\"))\n",
    "\n",
    "WIDTH = 256\n",
    "HEIGHT = 256\n",
    "SIZE = (WIDTH, HEIGHT)\n",
    "INPUTS_DIR = \"datasets/validation/images/\"\n",
    "LABELS_DIR = \"datasets/validation/segmentation/\"\n",
    "LABELS_FILE = \"datasets/validation/classification.csv\"\n",
    "META_FILE = \"datasets/validation/metadata.csv\"\n",
    "BATCH_SIZE = 1\n",
    "SAVED_FILE = f\"saved/p3/weights_{WIDTH}_{HEIGHT}.h5\""
   ]
  },
  {
   "cell_type": "code",
   "execution_count": 2,
   "metadata": {},
   "outputs": [],
   "source": [
    "target = pandas.read_csv(LABELS_FILE, header=0)\n",
    "metadata = pandas.read_csv(META_FILE, header=0)\n",
    "data_tb = pandas.merge(target, metadata, on=\"image_id\")\n",
    "data_tb['age_approximate'] = data_tb['age_approximate'].map(lambda x: float(x) if x != 'unknown' else -1.0)\n",
    "data_tb['male'] = (data_tb['sex'] == 'male').astype(float)\n",
    "data_tb['female'] = (data_tb['sex'] == 'female').astype(float)\n",
    "data_tb['none'] = ((data_tb['melanoma'] < 0.5) & (data_tb['seborrheic_keratosis'] < 0.5)).astype(float)\n",
    "metadata_tb = data_tb[['age_approximate', 'male', 'female']].to_numpy()\n",
    "target_tb = data_tb[['none', 'melanoma', 'seborrheic_keratosis']].to_numpy()\n",
    "images_tb = (INPUTS_DIR + data_tb['image_id'] + '.jpg').to_list()"
   ]
  },
  {
   "cell_type": "code",
   "execution_count": 3,
   "metadata": {},
   "outputs": [
    {
     "name": "stderr",
     "output_type": "stream",
     "text": [
      "2023-12-08 13:11:57.301692: I external/local_xla/xla/stream_executor/cuda/cuda_executor.cc:887] could not open file to read NUMA node: /sys/bus/pci/devices/0000:01:00.0/numa_node\n",
      "Your kernel may have been built without NUMA support.\n",
      "2023-12-08 13:11:57.302002: I external/local_xla/xla/stream_executor/cuda/cuda_executor.cc:887] could not open file to read NUMA node: /sys/bus/pci/devices/0000:01:00.0/numa_node\n",
      "Your kernel may have been built without NUMA support.\n",
      "2023-12-08 13:11:57.302131: I external/local_xla/xla/stream_executor/cuda/cuda_executor.cc:887] could not open file to read NUMA node: /sys/bus/pci/devices/0000:01:00.0/numa_node\n",
      "Your kernel may have been built without NUMA support.\n",
      "2023-12-08 13:11:57.522728: I external/local_xla/xla/stream_executor/cuda/cuda_executor.cc:887] could not open file to read NUMA node: /sys/bus/pci/devices/0000:01:00.0/numa_node\n",
      "Your kernel may have been built without NUMA support.\n",
      "2023-12-08 13:11:57.522938: I external/local_xla/xla/stream_executor/cuda/cuda_executor.cc:887] could not open file to read NUMA node: /sys/bus/pci/devices/0000:01:00.0/numa_node\n",
      "Your kernel may have been built without NUMA support.\n",
      "2023-12-08 13:11:57.522955: I tensorflow/core/common_runtime/gpu/gpu_device.cc:2022] Could not identify NUMA node of platform GPU id 0, defaulting to 0.  Your kernel may not have been built with NUMA support.\n",
      "2023-12-08 13:11:57.523070: I external/local_xla/xla/stream_executor/cuda/cuda_executor.cc:887] could not open file to read NUMA node: /sys/bus/pci/devices/0000:01:00.0/numa_node\n",
      "Your kernel may have been built without NUMA support.\n",
      "2023-12-08 13:11:57.523187: I tensorflow/core/common_runtime/gpu/gpu_device.cc:1929] Created device /job:localhost/replica:0/task:0/device:GPU:0 with 5578 MB memory:  -> device: 0, name: NVIDIA GeForce RTX 4060 Laptop GPU, pci bus id: 0000:01:00.0, compute capability: 8.9\n"
     ]
    }
   ],
   "source": [
    "def load_image(path):\n",
    "    file = tf.io.read_file(path)\n",
    "    image = tf.io.decode_image(file, channels=3, expand_animations=False)\n",
    "    image = tf.image.resize(image, size=SIZE)\n",
    "    return image\n",
    "\n",
    "paths_ds = tf.data.Dataset.from_tensor_slices(images_tb)\n",
    "inputs_ds = paths_ds.map(load_image).batch(BATCH_SIZE).prefetch(tf.data.AUTOTUNE).cache()\n",
    "metadata_ds = tf.data.Dataset.from_tensor_slices(metadata_tb).batch(BATCH_SIZE).prefetch(tf.data.AUTOTUNE).cache()"
   ]
  },
  {
   "cell_type": "code",
   "execution_count": 4,
   "metadata": {},
   "outputs": [],
   "source": [
    "model = ClassifierNet()\n",
    "model((layers.Input((WIDTH, HEIGHT, 3)), layers.Input(3)))\n",
    "model.load_weights(SAVED_FILE)"
   ]
  },
  {
   "cell_type": "code",
   "execution_count": 5,
   "metadata": {},
   "outputs": [
    {
     "name": "stderr",
     "output_type": "stream",
     "text": [
      "2023-12-08 13:12:12.016796: I external/local_xla/xla/stream_executor/cuda/cuda_dnn.cc:454] Loaded cuDNN version 8904\n",
      "2023-12-08 13:12:12.364351: W external/local_xla/xla/stream_executor/gpu/asm_compiler.cc:225] Falling back to the CUDA driver for PTX compilation; ptxas does not support CC 8.9\n",
      "2023-12-08 13:12:12.364462: W external/local_xla/xla/stream_executor/gpu/asm_compiler.cc:228] Used ptxas at ptxas\n",
      "2023-12-08 13:12:12.364657: W external/local_xla/xla/stream_executor/gpu/redzone_allocator.cc:322] UNIMPLEMENTED: ptxas ptxas too old. Falling back to the driver to compile.\n",
      "Relying on driver to perform ptx compilation. \n",
      "Modify $PATH to customize ptxas location.\n",
      "This message will be only logged once.\n",
      "2023-12-08 13:12:13.284029: W tensorflow/compiler/mlir/tools/kernel_gen/transforms/gpu_kernel_to_blob_pass.cc:191] Failed to compile generated PTX with ptxas. Falling back to compilation by driver.\n",
      "2023-12-08 13:12:21.755043: W external/local_tsl/tsl/framework/cpu_allocator_impl.cc:83] Allocation of 87713712 exceeds 10% of free system memory.\n",
      "2023-12-08 13:12:21.771466: W external/local_tsl/tsl/framework/cpu_allocator_impl.cc:83] Allocation of 87834186 exceeds 10% of free system memory.\n",
      "2023-12-08 13:12:21.855085: W external/local_tsl/tsl/framework/cpu_allocator_impl.cc:83] Allocation of 87827586 exceeds 10% of free system memory.\n",
      "2023-12-08 13:12:21.884404: W external/local_tsl/tsl/framework/cpu_allocator_impl.cc:83] Allocation of 88491366 exceeds 10% of free system memory.\n",
      "2023-12-08 13:12:21.986753: W external/local_tsl/tsl/framework/cpu_allocator_impl.cc:83] Allocation of 88265076 exceeds 10% of free system memory.\n"
     ]
    }
   ],
   "source": [
    "outputs_tb = numpy.ndarray((0, 3))\n",
    "zipped = tf.data.Dataset.zip((inputs_ds, metadata_ds))\n",
    "for inputs, metadata in zipped:\n",
    "    outputs = model((inputs, metadata))\n",
    "    outputs_tb = numpy.append(outputs_tb, outputs.numpy(), axis=0)"
   ]
  },
  {
   "cell_type": "code",
   "execution_count": 10,
   "metadata": {},
   "outputs": [
    {
     "data": {
      "text/plain": [
       "0.5933333333333334"
      ]
     },
     "execution_count": 10,
     "metadata": {},
     "output_type": "execute_result"
    }
   ],
   "source": [
    "(numpy.argmax(outputs_tb, axis=1) == numpy.argmax(target_tb, axis=1)).sum() / len(outputs_tb)"
   ]
  }
 ],
 "metadata": {
  "kernelspec": {
   "display_name": "Python 3.9.16 ('base')",
   "language": "python",
   "name": "python3"
  },
  "language_info": {
   "codemirror_mode": {
    "name": "ipython",
    "version": 3
   },
   "file_extension": ".py",
   "mimetype": "text/x-python",
   "name": "python",
   "nbconvert_exporter": "python",
   "pygments_lexer": "ipython3",
   "version": "3.10.13"
  },
  "orig_nbformat": 4,
  "vscode": {
   "interpreter": {
    "hash": "cef7dac447828f86f7491dbe09c97b3d1c981520c10af3d8f0b04e705d094cf3"
   }
  }
 },
 "nbformat": 4,
 "nbformat_minor": 2
}
