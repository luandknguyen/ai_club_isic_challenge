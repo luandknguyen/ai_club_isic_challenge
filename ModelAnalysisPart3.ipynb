{
 "cells": [
  {
   "cell_type": "code",
   "execution_count": 1,
   "metadata": {},
   "outputs": [
    {
     "name": "stderr",
     "output_type": "stream",
     "text": [
      "2024-01-21 03:41:28.271157: E tensorflow/compiler/xla/stream_executor/cuda/cuda_dnn.cc:9342] Unable to register cuDNN factory: Attempting to register factory for plugin cuDNN when one has already been registered\n",
      "2024-01-21 03:41:28.271197: E tensorflow/compiler/xla/stream_executor/cuda/cuda_fft.cc:609] Unable to register cuFFT factory: Attempting to register factory for plugin cuFFT when one has already been registered\n",
      "2024-01-21 03:41:28.271204: E tensorflow/compiler/xla/stream_executor/cuda/cuda_blas.cc:1518] Unable to register cuBLAS factory: Attempting to register factory for plugin cuBLAS when one has already been registered\n",
      "2024-01-21 03:41:28.274816: I tensorflow/core/platform/cpu_feature_guard.cc:182] This TensorFlow binary is optimized to use available CPU instructions in performance-critical operations.\n",
      "To enable the following instructions: SSE4.1 SSE4.2 AVX AVX2 FMA, in other operations, rebuild TensorFlow with the appropriate compiler flags.\n"
     ]
    },
    {
     "name": "stdout",
     "output_type": "stream",
     "text": [
      "[PhysicalDevice(name='/physical_device:GPU:0', device_type='GPU')]\n",
      "[PhysicalDevice(name='/physical_device:GPU:0', device_type='GPU')]\n"
     ]
    },
    {
     "name": "stderr",
     "output_type": "stream",
     "text": [
      "2024-01-21 03:41:29.637947: I tensorflow/compiler/xla/stream_executor/cuda/cuda_gpu_executor.cc:880] could not open file to read NUMA node: /sys/bus/pci/devices/0000:01:00.0/numa_node\n",
      "Your kernel may have been built without NUMA support.\n",
      "2024-01-21 03:41:29.673428: I tensorflow/compiler/xla/stream_executor/cuda/cuda_gpu_executor.cc:880] could not open file to read NUMA node: /sys/bus/pci/devices/0000:01:00.0/numa_node\n",
      "Your kernel may have been built without NUMA support.\n",
      "2024-01-21 03:41:29.673471: I tensorflow/compiler/xla/stream_executor/cuda/cuda_gpu_executor.cc:880] could not open file to read NUMA node: /sys/bus/pci/devices/0000:01:00.0/numa_node\n",
      "Your kernel may have been built without NUMA support.\n"
     ]
    }
   ],
   "source": [
    "# %% Imports\n",
    "\n",
    "import random\n",
    "import csv\n",
    "\n",
    "import numpy\n",
    "import pandas\n",
    "import tensorflow as tf\n",
    "from keras import layers, utils, losses, metrics\n",
    "import matplotlib.pyplot as pyplot\n",
    "from tqdm import tqdm\n",
    "\n",
    "from model import UNet, ClassifierNet\n",
    "\n",
    "# Check for GPU\n",
    "print(tf.config.list_physical_devices(\"GPU\"))\n",
    "\n",
    "WIDTH = 256\n",
    "HEIGHT = 256\n",
    "SIZE = (WIDTH, HEIGHT)\n",
    "INPUTS_DIR = \"datasets/validation/images/\"\n",
    "LABELS_DIR = \"datasets/validation/segmentation/\"\n",
    "LABELS_FILE = \"datasets/validation/classification.csv\"\n",
    "META_FILE = \"datasets/validation/metadata.csv\"\n",
    "BATCH_SIZE = 1\n",
    "SAVED_FILE = f\"saved/p3/weights_{WIDTH}_{HEIGHT}.h5\""
   ]
  },
  {
   "cell_type": "code",
   "execution_count": 2,
   "metadata": {},
   "outputs": [],
   "source": [
    "target = pandas.read_csv(LABELS_FILE, header=0)\n",
    "metadata = pandas.read_csv(META_FILE, header=0)\n",
    "data_tb = pandas.merge(target, metadata, on=\"image_id\")\n",
    "data_tb['age_approximate'] = data_tb['age_approximate'].map(lambda x: float(x) if x != 'unknown' else -1.0)\n",
    "data_tb['male'] = (data_tb['sex'] == 'male').astype(float)\n",
    "data_tb['female'] = (data_tb['sex'] == 'female').astype(float)\n",
    "data_tb['nevus'] = ((data_tb['melanoma'] < 0.5) & (data_tb['seborrheic_keratosis'] < 0.5)).astype(float)\n",
    "metadata_tb = data_tb[['age_approximate', 'male', 'female']].to_numpy()\n",
    "target_tb = data_tb[['nevus', 'melanoma', 'seborrheic_keratosis']].to_numpy()\n",
    "images_tb = (INPUTS_DIR + data_tb['image_id'] + '.jpg').to_list()"
   ]
  },
  {
   "cell_type": "code",
   "execution_count": 3,
   "metadata": {},
   "outputs": [
    {
     "name": "stderr",
     "output_type": "stream",
     "text": [
      "2024-01-21 03:41:32.303577: I tensorflow/compiler/xla/stream_executor/cuda/cuda_gpu_executor.cc:880] could not open file to read NUMA node: /sys/bus/pci/devices/0000:01:00.0/numa_node\n",
      "Your kernel may have been built without NUMA support.\n",
      "2024-01-21 03:41:32.303686: I tensorflow/compiler/xla/stream_executor/cuda/cuda_gpu_executor.cc:880] could not open file to read NUMA node: /sys/bus/pci/devices/0000:01:00.0/numa_node\n",
      "Your kernel may have been built without NUMA support.\n",
      "2024-01-21 03:41:32.303721: I tensorflow/compiler/xla/stream_executor/cuda/cuda_gpu_executor.cc:880] could not open file to read NUMA node: /sys/bus/pci/devices/0000:01:00.0/numa_node\n",
      "Your kernel may have been built without NUMA support.\n",
      "2024-01-21 03:41:32.424694: I tensorflow/compiler/xla/stream_executor/cuda/cuda_gpu_executor.cc:880] could not open file to read NUMA node: /sys/bus/pci/devices/0000:01:00.0/numa_node\n",
      "Your kernel may have been built without NUMA support.\n",
      "2024-01-21 03:41:32.424770: I tensorflow/compiler/xla/stream_executor/cuda/cuda_gpu_executor.cc:880] could not open file to read NUMA node: /sys/bus/pci/devices/0000:01:00.0/numa_node\n",
      "Your kernel may have been built without NUMA support.\n",
      "2024-01-21 03:41:32.424778: I tensorflow/core/common_runtime/gpu/gpu_device.cc:1977] Could not identify NUMA node of platform GPU id 0, defaulting to 0.  Your kernel may not have been built with NUMA support.\n",
      "2024-01-21 03:41:32.424817: I tensorflow/compiler/xla/stream_executor/cuda/cuda_gpu_executor.cc:880] could not open file to read NUMA node: /sys/bus/pci/devices/0000:01:00.0/numa_node\n",
      "Your kernel may have been built without NUMA support.\n",
      "2024-01-21 03:41:32.424835: I tensorflow/core/common_runtime/gpu/gpu_device.cc:1886] Created device /job:localhost/replica:0/task:0/device:GPU:0 with 8828 MB memory:  -> device: 0, name: NVIDIA GeForce RTX 2080 Ti, pci bus id: 0000:01:00.0, compute capability: 7.5\n"
     ]
    }
   ],
   "source": [
    "def load_image(path):\n",
    "    file = tf.io.read_file(path)\n",
    "    image = tf.io.decode_image(file, channels=3, expand_animations=False)\n",
    "    image = tf.image.resize(image, size=SIZE)\n",
    "    return image\n",
    "\n",
    "paths_ds = tf.data.Dataset.from_tensor_slices(images_tb)\n",
    "inputs_ds = paths_ds.map(load_image).batch(BATCH_SIZE).prefetch(tf.data.AUTOTUNE).cache()\n",
    "metadata_ds = tf.data.Dataset.from_tensor_slices(metadata_tb).batch(BATCH_SIZE).prefetch(tf.data.AUTOTUNE).cache()"
   ]
  },
  {
   "cell_type": "code",
   "execution_count": 4,
   "metadata": {},
   "outputs": [],
   "source": [
    "model = ClassifierNet()\n",
    "model((layers.Input((WIDTH, HEIGHT, 3)), layers.Input(3)))\n",
    "model.load_weights(SAVED_FILE)"
   ]
  },
  {
   "cell_type": "code",
   "execution_count": 5,
   "metadata": {},
   "outputs": [
    {
     "name": "stderr",
     "output_type": "stream",
     "text": [
      "2024-01-21 03:41:49.742480: I tensorflow/compiler/xla/stream_executor/cuda/cuda_dnn.cc:442] Loaded cuDNN version 8902\n",
      "2024-01-21 03:41:49.867086: W tensorflow/compiler/xla/service/gpu/llvm_gpu_backend/gpu_backend_lib.cc:521] Can't find libdevice directory ${CUDA_DIR}/nvvm/libdevice. This may result in compilation or runtime failures, if the program we try to run uses routines from libdevice.\n",
      "Searched for CUDA in the following directories:\n",
      "  ./cuda_sdk_lib\n",
      "  /usr/local/cuda-11.8\n",
      "  /usr/local/cuda\n",
      "  /home/luan/miniconda3/envs/luanenv/lib/python3.9/site-packages/tensorflow/python/platform/../../../nvidia/cuda_nvcc\n",
      "  /home/luan/miniconda3/envs/luanenv/lib/python3.9/site-packages/tensorflow/python/platform/../../../../nvidia/cuda_nvcc\n",
      "  .\n",
      "You can choose the search directory by setting xla_gpu_cuda_data_dir in HloModule's DebugOptions.  For most apps, setting the environment variable XLA_FLAGS=--xla_gpu_cuda_data_dir=/path/to/cuda will work.\n"
     ]
    }
   ],
   "source": [
    "outputs_tb = numpy.ndarray((0, 3))\n",
    "zipped = tf.data.Dataset.zip((inputs_ds, metadata_ds))\n",
    "for inputs, metadata in zipped:\n",
    "    inputs = inputs / 255\n",
    "    outputs = model((inputs, metadata))\n",
    "    outputs_tb = numpy.append(outputs_tb, outputs.numpy(), axis=0)"
   ]
  },
  {
   "cell_type": "code",
   "execution_count": 6,
   "metadata": {},
   "outputs": [
    {
     "name": "stdout",
     "output_type": "stream",
     "text": [
      "Sensitivity of melanoma: 0.43333333333333335\n",
      "Specificity of melanoma: 0.3566666666666667\n",
      "Accuracy of melanoma: 0.36363636363636365\n"
     ]
    }
   ],
   "source": [
    "target_argmax = numpy.argmax(target_tb, axis=1)\n",
    "outputs_argmax = numpy.argmax(outputs_tb, axis=1)\n",
    "melanoma_P = numpy.sum(target_argmax == 1)\n",
    "melanoma_TP = numpy.sum((target_argmax == 1) & (outputs_argmax == 1))\n",
    "melanoma_N = numpy.sum(target_tb != 1)\n",
    "melanoma_TN = numpy.sum((target_argmax != 1) & (outputs_argmax != 1))\n",
    "print(\"Sensitivity of melanoma: \" + str(melanoma_TP / melanoma_P))\n",
    "print(\"Specificity of melanoma: \" + str(melanoma_TN / melanoma_N))\n",
    "print(\"Accuracy of melanoma: \" + str((melanoma_TP + melanoma_TN) / (melanoma_P + melanoma_N)))"
   ]
  },
  {
   "cell_type": "code",
   "execution_count": 7,
   "metadata": {},
   "outputs": [
    {
     "name": "stdout",
     "output_type": "stream",
     "text": [
      "Sensitivity of seborrheic keratosis: 0.5\n",
      "Specificity of seborrheic keratosis: 0.3233333333333333\n",
      "Accuracy of seborrheic keratosis: 0.34502923976608185\n"
     ]
    }
   ],
   "source": [
    "target_argmax = numpy.argmax(target_tb, axis=1)\n",
    "outputs_argmax = numpy.argmax(outputs_tb, axis=1)\n",
    "sk_P = numpy.sum(target_argmax == 2)\n",
    "sk_TP = numpy.sum((target_argmax == 2) & (outputs_argmax == 2))\n",
    "sk_N = numpy.sum(target_tb != 1)\n",
    "sk_TN = numpy.sum((target_argmax != 2) & (outputs_argmax != 2))\n",
    "print(\"Sensitivity of seborrheic keratosis: \" + str(sk_TP / sk_P))\n",
    "print(\"Specificity of seborrheic keratosis: \" + str(sk_TN / sk_N))\n",
    "print(\"Accuracy of seborrheic keratosis: \" + str((sk_TP + sk_TN) / (sk_P + sk_N)))"
   ]
  }
 ],
 "metadata": {
  "kernelspec": {
   "display_name": "Python 3.9.16 ('base')",
   "language": "python",
   "name": "python3"
  },
  "language_info": {
   "codemirror_mode": {
    "name": "ipython",
    "version": 3
   },
   "file_extension": ".py",
   "mimetype": "text/x-python",
   "name": "python",
   "nbconvert_exporter": "python",
   "pygments_lexer": "ipython3",
   "version": "3.9.18"
  },
  "orig_nbformat": 4,
  "vscode": {
   "interpreter": {
    "hash": "ad2bdc8ecc057115af97d19610ffacc2b4e99fae6737bb82f5d7fb13d2f2c186"
   }
  }
 },
 "nbformat": 4,
 "nbformat_minor": 2
}
